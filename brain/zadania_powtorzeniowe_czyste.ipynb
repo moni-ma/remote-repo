{
 "cells": [
  {
   "cell_type": "code",
   "execution_count": null,
   "metadata": {},
   "outputs": [],
   "source": [
    "%matplotlib notebook\n",
    "import numpy as np\n",
    "import matplotlib.pyplot as plt\n",
    "from scipy.signal import periodogram, welch"
   ]
  },
  {
   "cell_type": "markdown",
   "metadata": {
    "collapsed": true
   },
   "source": [
    "### Zadanie 1. \n"
   ]
  },
  {
   "cell_type": "markdown",
   "metadata": {},
   "source": [
    "Proszę wczytać plik http://www.fuw.edu.pl/~jarekz/nkanalowysygnal.bin. \n",
    "\n",
    "Jest to sygnał sześcio kanałowy multipleksowany, liczby są zapisane w formacie ‘<f’, próbkowanie 128Hz. \n",
    "* Proszę wykreślić jego przebieg \n",
    "* Pobrać wycinek ostatniego kanału odpowiadający czasowi pomiędzy 40 a 60 s i zapisać go w zmiennej x\n",
    "* wykreślić zmienną x wraz z odpowiadającą jej skalą czasu.\n"
   ]
  },
  {
   "cell_type": "code",
   "execution_count": null,
   "metadata": {
    "scrolled": false
   },
   "outputs": [],
   "source": []
  },
  {
   "cell_type": "markdown",
   "metadata": {},
   "source": [
    "Dla kanału 6 oblicz widmo gęstości mocy metodą periodogramu i wykreśl je i podpisz osie zakładając, że amplitudy sygnału mierzone były w $\\mu$V. (1 pkt)"
   ]
  },
  {
   "cell_type": "code",
   "execution_count": null,
   "metadata": {
    "scrolled": false
   },
   "outputs": [],
   "source": []
  },
  {
   "cell_type": "markdown",
   "metadata": {},
   "source": [
    "Podaj energię tego sygnału obliczoną w dziedzinie czasu i w dziedzinie częstości dla periodogramu. (1 pkt)\n"
   ]
  },
  {
   "cell_type": "code",
   "execution_count": null,
   "metadata": {},
   "outputs": [],
   "source": []
  },
  {
   "cell_type": "markdown",
   "metadata": {},
   "source": [
    "Oblicz widmo gęstości mocy dla tego samego kanału metodą Welcha z oknem hanninga o długości 256 i nakładaniem się na połowę długości(1 pkt)"
   ]
  },
  {
   "cell_type": "code",
   "execution_count": null,
   "metadata": {},
   "outputs": [],
   "source": []
  },
  {
   "cell_type": "markdown",
   "metadata": {},
   "source": [
    "### Zadanie 2.\n",
    "\n",
    "Proszę wczytać plik http://www.fuw.edu.pl/~jarekz/zad2_syg.bin. Jest to sygnał jednokanałowy, liczby są zapisane w formacie ‘<f’, próbkowanie 128Hz. Następnie proszę wyświetlić jego przebieg (0.5pkt)"
   ]
  },
  {
   "cell_type": "code",
   "execution_count": null,
   "metadata": {},
   "outputs": [],
   "source": []
  },
  {
   "cell_type": "markdown",
   "metadata": {},
   "source": [
    "Unormuj ten sygnał (0.5 pkt)"
   ]
  },
  {
   "cell_type": "code",
   "execution_count": null,
   "metadata": {},
   "outputs": [],
   "source": []
  },
  {
   "cell_type": "markdown",
   "metadata": {},
   "source": [
    "* Wygeneruj unormowane sygnały testowe: sinusoidy i cosinusoidy o częstościach od 1 do 25 Hz co 0.5Hz.\n",
    "* Za pomocą sygnałów testowych określ jakie częstości występują we wczytanym sygnale i w jakiej proporcji amplitudowej "
   ]
  },
  {
   "cell_type": "code",
   "execution_count": null,
   "metadata": {},
   "outputs": [],
   "source": []
  },
  {
   "cell_type": "markdown",
   "metadata": {},
   "source": [
    "### Zadanie 3\n",
    "Proszę pobrać sygnał i zapisać w katalogu roboczym:\n",
    "http://www.fuw.edu.pl/~jarekz/zad3_syg.bin"
   ]
  },
  {
   "cell_type": "markdown",
   "metadata": {},
   "source": [
    "Jest to sygnał jednokanałowy, liczby są zapisane w formacie ‘double’, próbkowanie 100Hz.\n",
    "\n",
    "Wykreśl przebieg sygnału."
   ]
  },
  {
   "cell_type": "code",
   "execution_count": null,
   "metadata": {},
   "outputs": [],
   "source": []
  },
  {
   "cell_type": "markdown",
   "metadata": {},
   "source": [
    "Wykreśl widma w skali decybelowej z oknami: prostokątne, hamminga,  blackmana i kaisera z parametrem 3.2 "
   ]
  },
  {
   "cell_type": "code",
   "execution_count": null,
   "metadata": {
    "scrolled": false
   },
   "outputs": [],
   "source": []
  },
  {
   "cell_type": "markdown",
   "metadata": {},
   "source": [
    "Podaj skład częstotliwościowy sygnału. "
   ]
  },
  {
   "cell_type": "code",
   "execution_count": null,
   "metadata": {},
   "outputs": [],
   "source": []
  }
 ],
 "metadata": {
  "anaconda-cloud": {},
  "kernelspec": {
   "display_name": "Python 3",
   "language": "python",
   "name": "python3"
  },
  "language_info": {
   "codemirror_mode": {
    "name": "ipython",
    "version": 3
   },
   "file_extension": ".py",
   "mimetype": "text/x-python",
   "name": "python",
   "nbconvert_exporter": "python",
   "pygments_lexer": "ipython3",
   "version": "3.7.3"
  }
 },
 "nbformat": 4,
 "nbformat_minor": 1
}
