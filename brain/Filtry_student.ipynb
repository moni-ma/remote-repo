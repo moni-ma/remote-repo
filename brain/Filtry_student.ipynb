{
 "cells": [
  {
   "cell_type": "markdown",
   "metadata": {},
   "source": [
    "Ustawiamy parametry wyświetlania i font."
   ]
  },
  {
   "cell_type": "code",
   "execution_count": null,
   "metadata": {
    "collapsed": true
   },
   "outputs": [],
   "source": [
    "# encoding: utf-8\n",
    "% matplotlib inline\n",
    "import matplotlib\n",
    "\n",
    "matplotlib.rcParams['figure.figsize'] = (7,7)#(10, 7)\n",
    "matplotlib.rcParams.update({'font.family': 'Arial'})\n",
    "matplotlib.rcParams.update({'font.size': 10})\n",
    "\n",
    "from IPython.core.display import display, HTML\n",
    "display(HTML(\"<style>.container { width:100% !important; }</style>\"))"
   ]
  },
  {
   "cell_type": "markdown",
   "metadata": {},
   "source": [
    "Importujemy podstawowe moduły:"
   ]
  },
  {
   "cell_type": "code",
   "execution_count": null,
   "metadata": {
    "collapsed": true
   },
   "outputs": [],
   "source": [
    "import numpy as np\n",
    "import pylab as py"
   ]
  },
  {
   "cell_type": "markdown",
   "metadata": {},
   "source": [
    "Importujemy funkcje specyficzne dla filtrowania w pythonie:"
   ]
  },
  {
   "cell_type": "code",
   "execution_count": null,
   "metadata": {
    "collapsed": true
   },
   "outputs": [],
   "source": [
    "from  scipy.signal import freqz, group_delay #funkcja obliczająca funkcję systemu\n",
    "from  scipy.signal import firwin, firwin2     # funkcje do projektowania filtrów FIR\n",
    "from  scipy.signal import butter, buttord     # funkcje do projektowania filtrów  \n",
    "from  scipy.signal import cheby1, cheb1ord    # funkcje do projektowania filtrów \n",
    "from  scipy.signal import cheby2, cheb2ord    # funkcje do projektowania filtrów \n",
    "from  scipy.signal import ellip, ellipord     # funkcje do projektowania filtrów eliptycznych\n",
    "from  scipy.signal import lfilter, filtfilt # funkcje do aplikowania filtrów"
   ]
  },
  {
   "cell_type": "markdown",
   "metadata": {},
   "source": [
    "# Implementacja filtrowania: funkcja lfilter\n",
    "## Dla przypomnienia: \n",
    "### Działanie filtra w dziedzinie czasu\n",
    "Najczęściej, wyjście filtra jest kombinacją liniową:\n",
    "\n",
    "$ y[n] = \\sum_{i=0}^{n_b}b(i)x[n-i] - \\sum_{i=1}^{n_a}a(i)y[n-i]$\n",
    "\n",
    "gdzie: \n",
    "\n",
    "* $n_b$ liczba przeszłych próbek wejściowych $x$\n",
    "* $n_a$ liczba przeszłych próbek wyjściowych $y$\n",
    "\n",
    "użytych do obliczenia aktualnego wyjścia $y[n]$.\n",
    " \n",
    "Większa z liczb  $n_b$ i $n_a$ określa \"rząd\" filtra.\n",
    "\n",
    "Zauważmy, że matematycznie operacje te odpowiadają splataniu próbek wejściowych z wektorem $b$ i próbek wyjściowych z wektorem $a$."
   ]
  },
  {
   "cell_type": "markdown",
   "metadata": {},
   "source": [
    "### Implementacja w pythonie\n",
    "Filtrowanie zgodne z powyższymi równaniami zaimplementowane jest w pythonie w module scipy.signal jako funkcja lfilter.\n",
    "\n",
    "Podstawowe wywołanie tej funkcji dla sygnału `we` wygląda następująco: \n",
    "\n",
    "``wy = scipy.signal.lfilter(b,a,we)`` \n",
    "\n",
    "gdzie b, a są to współczynniki z poprzedniego równania."
   ]
  },
  {
   "cell_type": "markdown",
   "metadata": {},
   "source": [
    "# Badanie własności filtra w dziedzinie czasu i częstości:\n",
    "Przy projektowaniu filtra musimy brać pod uwagę jego następujące własności:\n",
    "- w dziedzinie częstości:\n",
    " - moduł transmitancji (funkcji przenoszenia) - jest to zależność modułu funkcji systemu od częstości  $\\left|H\\left(f\\right)\\right|$ \n",
    " - opóźnienie grupowe\n",
    " - opóźnienie fazowe\n",
    "- w dziedzinie czasu:\n",
    " - funkcję odpowiedzi impulsowej \n",
    " - funkcję odpowiedzi schodkowej"
   ]
  },
  {
   "cell_type": "markdown",
   "metadata": {},
   "source": [
    "## Zadanie: budujemy funkcję do ilustracji własności filtra\n",
    "Nasza funkcja będzie przyjmowała na wejściu:\n",
    "* współczynniki filtra ``a, b``, \n",
    "* wektor zawierający częstości ``f``, dla których własności mają być policzone,\n",
    "* długość odcinka czasu, ``T``, na którym mają być prezentowane własności czasowe filtra,  \n",
    "* oraz częstość próbkowania ``Fs``.\n",
    "\n",
    "Funkcja ta będzie rysowała wszystkie powyżej wspomniane charakterystyki filtra."
   ]
  },
  {
   "cell_type": "code",
   "execution_count": null,
   "metadata": {
    "collapsed": true
   },
   "outputs": [],
   "source": [
    "def charkterystyki(a,b,f,T,Fs):\n",
    "    # przyda nam się oś czasu od -T do T sekund\n",
    "    t = np.arange(-T, T, 1/Fs)\n",
    "    \n",
    "    # oś częstości przeliczamy na radiany\n",
    "    w = 2*np.pi* f/Fs\n",
    "    \n",
    "    # obliczamy transmitancję\n",
    "    w, h = freqz(...) \n",
    "    \n",
    "    # obliczamy moduł transmitancji\n",
    "    m = np.abs(h)\n",
    "        \n",
    "    # obliczamy fazę i \"rozwijamy\" ją   \n",
    "    faza = np.unwrap(np.angle(h))\n",
    "\n",
    "    # obliczamy opóźnienie fazowe\n",
    "    opoznienieFazowe = - faza/w\n",
    "    \n",
    "    # obliczamy opóźnienie grupowe\n",
    "    df = np.diff(faza)\n",
    "    idx, = np.where(np.abs(df-np.pi)<0.05) #to zabezpieczenie na błędy przy \"rozwijaniu\" fazy\n",
    "    df[idx] = (df[idx+1]+df[idx-1])/2\n",
    "    grupowe = - df/np.diff(w)\n",
    "    \n",
    "    # obliczamy odpowiedź impulsową\n",
    "    x = np.zeros(len(t))\n",
    "    x[len(t)//2] = 1 # impuls\n",
    "    y = lfilter(b,a,x) # przepuszczamy impuls przez filtr i obserwujemy odpowiedź impulsową\n",
    "    \n",
    "    # obliczamy odpowiedź schodkową\n",
    "    s = np.zeros(len(t))\n",
    "    s[len(t)//2:] = 1 # schodek\n",
    "    ys = lfilter(b,a,s) # przepuszczamy schodek przez filtr i obserwujemy odpowiedź schodkową\n",
    "    \n",
    "    # rysujemy\n",
    "    fig = py.figure()\n",
    "    py.subplot(3,2,1)\n",
    "    py.title('moduł transmitancji')\n",
    "    py.plot(f,20*np.log10(m))\n",
    "    py.ylabel('[dB]')\n",
    "    py.grid('on')\n",
    "    \n",
    "    py.subplot(3,2,3)\n",
    "    py.title('opóźnienie fazowe')\n",
    "    py.plot(f, opoznienieFazowe)\n",
    "    py.ylabel('próbki')\n",
    "    py.grid('on')\n",
    "    \n",
    "    py.subplot(3,2,5)\n",
    "    py.title('opóźnienie grupowe')\n",
    "    py.plot(f[:-1],grupowe)\n",
    "    py.ylabel('próbki')\n",
    "    py.xlabel('Częstość [Hz]')\n",
    "    py.grid('on')\n",
    "    py.ylim([0, np.max(grupowe)+1])\n",
    "    \n",
    "    py.subplot(3,2,2)\n",
    "    py.title('odpowiedź impulsowa')\n",
    "    py.plot(t, x)\n",
    "    py.plot(t, y)\n",
    "    py.xlim([-T/2,T])\n",
    "    py.grid('on')\n",
    "    \n",
    "    py.subplot(3,2,4)\n",
    "    py.title('odpowiedź schodkowa')\n",
    "    py.plot(t, s)\n",
    "    py.plot(t, ys)\n",
    "    py.xlim([-T/2,T])\n",
    "    py.xlabel('Czas [s]')\n",
    "    py.grid('on')\n",
    "    \n",
    "    fig.subplots_adjust(hspace=.5)\n",
    "    py.show()\n",
    "    "
   ]
  },
  {
   "cell_type": "markdown",
   "metadata": {},
   "source": [
    "Testujemy:"
   ]
  },
  {
   "cell_type": "code",
   "execution_count": null,
   "metadata": {
    "collapsed": true
   },
   "outputs": [],
   "source": [
    "b = firwin(54,0.5)# licznik\n",
    "a = np.array([1.0]) # mianownik\n",
    "Fs = 100\n",
    "T = 1\n",
    "f = np.arange(0.01,Fs/2,0.01)\n",
    "charkterystyki(a,b,f,T,Fs)"
   ]
  },
  {
   "cell_type": "markdown",
   "metadata": {},
   "source": [
    "# Funkcje do projektowania filtrów\n",
    "W bibliotece ``scipy.signal`` jest kilka funkcji do projektowania filtrów o zadanych parametrach. My skupimy się na dwóch zasadniczych grupach: \n",
    "* FIR - filtry o skończonej odpowiedzi impulsowej\n",
    "* klasyczne IIR - filtry o nieskończonej odpowiedzi impulsowej"
   ]
  },
  {
   "cell_type": "markdown",
   "metadata": {},
   "source": [
    "## FIR\n",
    "Filtry typu FIR zwykle wymagają znacznie wyższych rzędów aby osiągnąć transmitancję o porządanej formie. Mają jednak dwie podstawowe zalety:\n",
    "* ich funkcja odpowiedzi jest skończona opisana wektorem ``b`` - efekty brzegowe sięgają z obu końców filtrowanego sygnału na dokładnie połowę długości wektora ``b``\n",
    "* mają liniową zależność fazy od częstości. Z tego powodu opóżnienie grupowe dla wszystkich częstości jest takie samo.\n",
    "\n",
    "W module <tt>scipy.signal</tt> mamy kilka funkcji do projektowania filtrów typu FIR: ``firwin`` i ``firwin2``."
   ]
  },
  {
   "cell_type": "markdown",
   "metadata": {},
   "source": [
    "### firwin\n",
    "Najprostszą koncepcyjnie metodą projektowania filtrów FIR jest metoda okienkowa.  \n",
    "Metoda składa się z następujących kroków: \n",
    "* w dziedzinie częstości projektowana jest idealna funkcja przenoszenia, \n",
    "* obliczana jest od niej odwrotna transformata Fouriera, \n",
    "* następnie otrzymana sekwencja czasowa (odpowiedź impulsowa) jest przemnażana przez wybrane okno.\n",
    "\n",
    "Metoda ta zaimplementowana jest w funkcji \n",
    "<tt>scipy.signal.firwin(numtaps, cutoff, width=None, window='hamming', pass_zero=True, scale=True, nyq=1.0)</tt>.\n",
    "\n",
    "Pozwala ona projektować filtry dolno- i górno- przepustowe oraz pasmowo przepustowe i pasmowo zaporowe metodą okienkową.\n",
    "\n",
    "Najważniejsze parametry (kompletny opis w dokumentacji) http://docs.scipy.org/doc/scipy/reference/generated/scipy.signal.firwin.html#scipy.signal.firwin"
   ]
  },
  {
   "cell_type": "markdown",
   "metadata": {},
   "source": [
    "* ``numtaps``: int, ilość współczynników filtru (rząd filtru+1). Liczba ta musi być parzysta jeśli pasmo przenoszenia ma zawierać częstość Nyquista.\n",
    "* <tt>cutoff</tt>: częstość odcięcia filtru. Może być jedną liczbą zmiennoprzecinkową dla filtru dolno- lub górno- przepustowego lub tablicą dla filtrów pasmowych. Wyrażamy ją w tych samych  jednostkach co <tt>nyq</tt> i musi zawierać się pomiędzy 0 a <tt>nyq</tt>. \n",
    "* <tt>window</tt>: napis lub krotka: określa jakiego okna użyć do projektu filtru. Może to być dowolne okno spośród opisanych w <tt>scipy.signal.get_window</tt> \n",
    "* <tt>pass_zero</tt>: bool, Jeśli True to zero jest przenoszone, jeśli False to nie jest. Ten parametr decyduje jak jest interpretowane pierwsze pasmo od 0 do <tt>cutoff</tt> - czy ma to być pasmo przenoszone czy tłumione.\n",
    "* <tt>nyq</tt>: float. Częstość Nyquista.\n",
    "* Zwraca: współczynniki <tt>b</tt>\n"
   ]
  },
  {
   "cell_type": "markdown",
   "metadata": {},
   "source": [
    "### Przykłady: Zbadaj włsności przykładowych projektów\n",
    "We wszystkich poniższych przykładach zakładamy, że częstość próbkowania wynosi 256Hz:\n",
    "\n",
    "* filtr dolnoprzepustowy rzędu 20 z częstością odcięcia 40Hz:\n",
    "\n",
    " * ``firwin(21, 40, nyq= 128)``"
   ]
  },
  {
   "cell_type": "code",
   "execution_count": null,
   "metadata": {
    "collapsed": true
   },
   "outputs": [],
   "source": [
    "Fs = 128\n",
    "T = 0.2\n",
    "f = np.arange(0.01,Fs/2,0.01)\n",
    "b = firwin(21, 40, nyq= 128)\n",
    "charkterystyki(1,b,f,T ,Fs)"
   ]
  },
  {
   "cell_type": "markdown",
   "metadata": {},
   "source": [
    "*  filtr górnoprzepustowy rzędu 15 z częstością odcięcia 5 Hz: \n",
    " * ``firwin(17, 15, nyq= 128, pass_zero=False)``"
   ]
  },
  {
   "cell_type": "code",
   "execution_count": null,
   "metadata": {
    "collapsed": true
   },
   "outputs": [],
   "source": [
    "Fs = 256\n",
    "T = 1\n",
    "f = np.arange(0.01,Fs/2,0.01)\n",
    "\n",
    "b = firwin(17, 15, nyq= 128, pass_zero=False)\n",
    "charkterystyki(1,b,f,T = 0.2,Fs=Fs)"
   ]
  },
  {
   "cell_type": "markdown",
   "metadata": {},
   "source": [
    "*  pasmowo przepustowy 51 rzędu przenoszący częstości pomiędzy 8 a 14 Hz: \n",
    " * ``firwin(51, [8, 14], nyq= 128, pass_zero=False)``"
   ]
  },
  {
   "cell_type": "code",
   "execution_count": null,
   "metadata": {
    "collapsed": true
   },
   "outputs": [],
   "source": [
    "Fs = 256\n",
    "f = np.arange(0.01,Fs/2,0.01) \n",
    "\n",
    "b=firwin(51, [8, 14], nyq= Fs/2, pass_zero=False)\n",
    "charkterystyki(1,b,f,T = 0.2,Fs=Fs)"
   ]
  },
  {
   "cell_type": "markdown",
   "metadata": {},
   "source": [
    "### Zadanie: Zaprojektuj i zbadaj własności filtra:\n",
    "FIR dolno z pasmem przenoszenia od 30 Hz dla sygnału próbkowanego 256 Hz"
   ]
  },
  {
   "cell_type": "code",
   "execution_count": null,
   "metadata": {
    "collapsed": true
   },
   "outputs": [],
   "source": []
  },
  {
   "cell_type": "markdown",
   "metadata": {},
   "source": [
    "### Zadanie: Znajdź rząd filtra FIR:\n",
    "dolnoprzepustowego z pasmem przenoszenia do 40 Hz dla sygnału próbkowanego 256 Hz, tak aby dla częstości powyżej 45 Hz jego tłumienie było nie mniejsze niż 20dB."
   ]
  },
  {
   "cell_type": "code",
   "execution_count": null,
   "metadata": {
    "collapsed": true
   },
   "outputs": [],
   "source": []
  },
  {
   "cell_type": "markdown",
   "metadata": {},
   "source": [
    "### firwin2\n",
    "\n",
    "Funkcja \n",
    "\n",
    "``scipy.signal.firwin2(numtaps, freq, gain, nfreqs=None, window='hamming', nyq=1.0)``\n",
    "\n",
    "również implementuje okienkową metodę projektowania filtrów FIR. Daje ona nieco większą swobodę w kształtowaniu idealnej funkcji przenoszenia. Zadaje się ją przez podanie dwóch wektorów: \n",
    "* ``freq`` i Wektor freq definiuje punkty w częstości (jednostki takie same jak ``nyq``, muszą zawierać 0 i ``nyq``) dla których znana jest wartość pożądanego przenoszenia.  Wartości ``freq`` muszą być ułożone w kolejności rosnącej, dopuszczalne jest powtórzenie tej samej wartości częstości i odpowiadających im różnych wartości gain aby zdefiniować nieciągłość funkcji przenoszenia.\n",
    "* ``gain`` Pożądane wartości przenoszenia odpowiadające kolejnym częstościom definiowane są w ``gain``.\n",
    "* Znaczenie pozostałych parametrów jest takie samo jak dla ``firwin."
   ]
  },
  {
   "cell_type": "markdown",
   "metadata": {},
   "source": [
    "### Zadanie: filtr wielopasmowy\n",
    "Zaprojektuj filtr przenoszący częstości w pasmach pomiędzy : 10-11, 20-21 i 30-31 Hz, który w paśmie zaporowym ma co najmniej 60 dB tłumienia. "
   ]
  },
  {
   "cell_type": "code",
   "execution_count": null,
   "metadata": {
    "collapsed": true
   },
   "outputs": [],
   "source": [
    "Fs =100\n",
    "T = 2\n",
    "f = np.arange(0.01,Fs/2,0.01) \n",
    "freq = np.array([0, 10, 10, 11, 11, 20, 20, 21, 21, 30, 30, 31, 31, 50])\n",
    "gain = np.array([0,  0,  1,  1,  0,  0,  1,  1,  0,  0,  1,  1,  0,  0])\n",
    "b = firwin2(100, freq, gain, nyq= 50)\n",
    "charkterystyki(1,b,f,T,Fs)"
   ]
  },
  {
   "cell_type": "markdown",
   "metadata": {},
   "source": [
    "# Filtry IIR\n",
    "Filtry o nieskończonej odpowiedzi impulsowej (''infinite impulse response'', IIR) mają zazwyczaj dużo niższe rzędy niż filtry o skończonej odpowiedzi impulsowej (''finite impulse response'', FIR) z analogicznym poziomem tłumienia i szerokością pasma przejściowego.\n",
    "\n",
    "W module <tt>scipy.signal</tt> mamy zaimplementowane kilka funkcji do projektowania &bdquo;optymalnych&rdquo; pod różnymi względami filtrów w klasycznych konfiguracjach:\n",
    "dolno- albo górnoprzepustowe i pasmowo-przepustowe albo pasmowo-zaporowe.\n",
    "\n",
    "## Funkcje do projektowania filtrów IIR dostępne w module <tt>scipy.signal</tt>\n",
    "W module <tt>scipy.signal</tt> dostępne są funkcje do projektowania czterech typów filtrów: Butterwortha, Czebyszewa typu I i II, oraz eliptyczny.\n",
    "Do opisu wymagań projektowych funkcje te wykorzystują następujące pojęcia:\n",
    "* <tt>wp</tt>, <tt>ws</tt> &mdash; krawędzie pasma przenoszenia i tłumienia. **Częstości są znormalizowane do zakresu od 0 do 1 (1 odpowiada częstości Nyquista)** przykładowo:\n",
    "* * dolno-przepustowy:  <tt>wp = 0.2</tt>,          <tt>ws = 0.3</tt>\n",
    "* * górno-przepustowy:  <tt>wp = 0.3</tt>,          <tt>ws = 0.2</tt>\n",
    "* * pasmowo-przepustowy:  <tt>wp = [0.2, 0.5]</tt>,   <tt>ws = [0.1, 0.6]</tt>\n",
    "* * pasmowo-zaporowy:  <tt>wp = [0.1, 0.6]</tt>,   <tt>ws = [0.2, 0.5]</tt>\n",
    "* <tt>gpass</tt> &mdash; maksymalna dopuszczalna strata w pasmie przenoszenia (w funkcjach projektujących filtry jest to <tt>rp</tt>) (dB).\n",
    "* <tt>gstop</tt> &mdash; minimalne wymagane tłumienie w pasmie tłumienia (w funkcjach projektujących filtry jest to <tt>rs</tt>) (dB).\n",
    "* <tt>btype</tt> &mdash; typ filtra (<tt>'lowpass'</tt>, <tt>'highpass'</tt>, <tt>'bandpass'</tt>, <tt>'bandstop'</tt>).\n",
    "\n",
    "Funkcje do projektowania filtrów są zaimplementowane parami: \n",
    "* jedna pomaga dobierać rząd filtru do wymagań projektowych, \n",
    "* druga oblicza współczynniki filtru. "
   ]
  },
  {
   "cell_type": "markdown",
   "metadata": {},
   "source": [
    "W poniższych przykładach przyjmiemy:"
   ]
  },
  {
   "cell_type": "code",
   "execution_count": null,
   "metadata": {
    "collapsed": true
   },
   "outputs": [],
   "source": [
    "T = 0.3\n",
    "Fs = 100 # Hz\n",
    "f = np.arange(0.01,Fs/2,0.01) \n",
    "\n",
    "wp = 10/(Fs/2)\n",
    "ws = 30/(Fs/2)\n",
    "gpass = 1 \n",
    "gstop = 25\n",
    "analog=0\n",
    "rp = gpass\n",
    "rs = gstop"
   ]
  },
  {
   "cell_type": "markdown",
   "metadata": {},
   "source": [
    "### Filtr Butterwortha\n",
    "daje gładką (bez tętnień) funkcję przenoszenia w całym zakresie częstości."
   ]
  },
  {
   "cell_type": "code",
   "execution_count": null,
   "metadata": {
    "collapsed": true
   },
   "outputs": [],
   "source": [
    "[n,Wn]=buttord(wp, ws, gpass, gstop)\n",
    "[b,a]=butter(n,Wn)\n",
    "charkterystyki(a,b,f,T,Fs)\n",
    "print('Filtr Butterwortha, rząd: {}, częstość odcięcia {:.3f}'.format(n,Wn*Fs/2))"
   ]
  },
  {
   "cell_type": "markdown",
   "metadata": {},
   "source": [
    "### Filtr Czebyszewa I rodzaju \n",
    "\n",
    "gładka funkcja przenoszenia w paśmie tłumienia, minimalizowane są tętnienia  w paśmie przenoszenia"
   ]
  },
  {
   "cell_type": "code",
   "execution_count": null,
   "metadata": {
    "collapsed": true
   },
   "outputs": [],
   "source": [
    "[n,Wn]=cheb1ord(wp, ws, gpass, gstop, analog)\n",
    "[b,a]=cheby1(n, rp, Wn, btype='low',  output='ba')\n",
    "charkterystyki(a,b,f,T,Fs)\n",
    "print('Czebyszewa I Typu: rząd: {}, częstość odcięcia {:.3f}'.format(n,Wn*Fs/2))"
   ]
  },
  {
   "cell_type": "markdown",
   "metadata": {},
   "source": [
    "### Filtr Czebyszewa II rodzaju\n",
    "\n",
    "gładka funkcja przenoszenia w paśmie przenoszenia, minimalizowane tętnienia w paśmie tłumienia"
   ]
  },
  {
   "cell_type": "code",
   "execution_count": null,
   "metadata": {
    "collapsed": true
   },
   "outputs": [],
   "source": [
    "[n,Wn]=cheb2ord(wp, ws, gpass, gstop, analog=0);\n",
    "[b,a]=cheby2(n, rs, Wn, btype='low', analog=0, output='ba')\n",
    "charkterystyki(a,b,f,T,Fs)\n",
    "print('Czebyszewa II Typu: rząd: {}, częstość odcięcia {:.3f}'.format(n,Wn*Fs/2))"
   ]
  },
  {
   "cell_type": "markdown",
   "metadata": {},
   "source": [
    "### Filtr eliptyczny \n",
    "daje najostrzejsze przejście pomiędzy pasmem tłumienia i przenoszenia przy tym samym rzędzie w porównaniu z wyżej wymienionymi filtrami, tętnienia są obecne zarówno w paśmie przenoszenia jak i w paśmie tłumienia\n"
   ]
  },
  {
   "cell_type": "code",
   "execution_count": null,
   "metadata": {
    "collapsed": true
   },
   "outputs": [],
   "source": [
    "[n,Wn]=ellipord(wp, ws, rp,rs);\n",
    "[b,a]=ellip(n, rp, rs, Wn, btype='low', analog=0, output='ba')\n",
    "charkterystyki(a,b,f,T,Fs)\n",
    "print('Eliptyczny: rząd: {}, częstość odcięcia {:.3f}'.format(n,Wn*Fs/2))"
   ]
  },
  {
   "cell_type": "markdown",
   "metadata": {},
   "source": [
    "## Filtrowanie z zerowym przesunięciem fazowym\n",
    "### Zadanie\n",
    "Filtrowanie sygnałów off-line można zrealizować tak, aby sygnał wyjściowy nie miał przesunięcia fazowego. \n",
    "Procedura powyższa zaimplementowana jest w funkcji: scipy.signal.filtfilt. Jej działanie i porównanie z efektami funkcji lfilter przedstawia poniższy przykład:"
   ]
  },
  {
   "cell_type": "code",
   "execution_count": null,
   "metadata": {
    "collapsed": true
   },
   "outputs": [],
   "source": [
    "# częstość próbkowania\n",
    "Fs = 100.0\n",
    "# projekt dolnoprzepustowego filtra Butterwortha 5 rzędu\n",
    "# o częstości odcięcia 10 Hz  \n",
    "[b,a] = butter(...)\n",
    " \n",
    "# obliczamy funkcję przenoszenia\n",
    "w,h = freqz(...)\n",
    "transmitancja = ...\n",
    " \n",
    "#opóźnienie grupowe\n",
    "grupowe = -np.diff(np.unwrap(np.angle(h)))/np.diff(w)  \n",
    " \n",
    "# przeliczamy skalę w (radiany) na częstości w Hz \n",
    "f = ...\n",
    " \n",
    "# generujemy sygnał\n",
    "t = np.arange(0,1,1/Fs)\n",
    "s = np.sin(2*np.pi*5*t)*np.hanning(len(t))\n",
    " \n",
    "# Filtrowanie z zerowym opoznieniem fazowym\n",
    "y = filtfilt(...)\n",
    " \n",
    "# Filtrowanie standardowe\n",
    "y1 = lfilter(b,a,s)\n",
    " \n",
    "# WYKRESY\n",
    "py.subplot(2,2,1)\n",
    "py.plot(f,20*np.log10(transmitancja)) # przeliczenie modułu transmitancji na dB\n",
    "py.title('moduł transmitancji')\n",
    "py.ylabel('[dB]')\n",
    " \n",
    "py.subplot(2,2,3)\n",
    "py.plot(f[:-1], grupowe )\n",
    "py.title('opoznienie grupowe')\n",
    "py.xlabel('[Hz]')\n",
    "py.ylabel('punkty')\n",
    " \n",
    "py.subplot(1,2,2)\n",
    "py.plot(t,s)\n",
    "py.plot(t,y,'g.')\n",
    "py.plot(t,y1,'r')\n",
    "py.legend(('s','filtfilt','lfilter'))\n",
    "py.xlabel('[s]')\n",
    "py.title('sygnaly')\n",
    "py.show()"
   ]
  },
  {
   "cell_type": "markdown",
   "metadata": {},
   "source": [
    "### Zadanie\n",
    "\n",
    "Skonstruować filtry dolnoprzepustowe rzędu n=5, o częstości odcięcia 30 Hz przy częstości próbkowania sygnału 128 Hz, rp = 0,5 dB, rs = 20 dB, przy pomocy wszystkich podanych powyżej funkcji i porównać ich własności."
   ]
  },
  {
   "cell_type": "code",
   "execution_count": null,
   "metadata": {
    "collapsed": true
   },
   "outputs": [],
   "source": []
  },
  {
   "cell_type": "markdown",
   "metadata": {},
   "source": [
    "### Zadanie\n",
    "Dobrać rząd i zaprojektować, a następnie zbadać własności otrzymanego filtru Butterwortha spełniającego poniższe kryteria:\n",
    "pasmo przenoszenia 1000-2000 Hz, pasmo tłumienia zaczyna się 500 Hz od każdego z brzegów pasma przenoszenia,\n",
    "próbkowanie 10 kHz, najwyżej 1 dB tętnienia w paśmie przenoszenia, co najmniej 60 dB tłumienia w paśmie tłumienia."
   ]
  },
  {
   "cell_type": "code",
   "execution_count": null,
   "metadata": {
    "collapsed": true
   },
   "outputs": [],
   "source": []
  },
  {
   "cell_type": "markdown",
   "metadata": {},
   "source": [
    "### Zadanie: filtr pasmowy do wyszukiwania wrzecion snu\n",
    "Zaprojektować filtr do wyławiania wrzecion snu z sygnału. Wrzeciona snu to struktury w sygnale EEG rejestrowanym w czasie snu zawierające się w paśmie 11-15 Hz.\n",
    "Działanie filtra przetestować na sygnale:\n",
    "\n",
    "http://www.fuw.edu.pl/~jarekz/SYGNALY/TF/c4spin.txt\n",
    "\n",
    "Sygnał ten to fragment zapisu EEG z II stadium snu elektroda C4 próbkownie 128Hz."
   ]
  },
  {
   "cell_type": "code",
   "execution_count": null,
   "metadata": {
    "collapsed": true
   },
   "outputs": [],
   "source": [
    "s = np.loadtxt('c4spin.txt') # wczytujemy sygnał z pliku tekstowego\n",
    "Fs = 128\n",
    "t = np.arange(0,len(s))/Fs # przygotowujemy oś czasu\n",
    "\n",
    "py.plot(t, s)\n",
    "[b,a] = butter(...)\n",
    "sf = filtfilt(...)\n",
    "py.plot(t,sf)\n",
    "py.show()"
   ]
  },
  {
   "cell_type": "markdown",
   "metadata": {},
   "source": [
    "### Zadanie 5: uwaga na odpowiedź impulsową\n",
    "\n",
    "Przydadzą nam się pliki: \n",
    "* https://drive.google.com/open?id=0BzwQ_Lscn8yDNGc0aU5jSDFFMmc Plik z sygnałem EKG\n",
    "* https://drive.google.com/open?id=0BzwQ_Lscn8yDOF9jX0pjcG9LSGc Plik z metadanymi do tego sygnału\n",
    "\n",
    "Proszę:\n",
    "* wykreślić pierwsze 10 sekund sygnału\n",
    "* zastosować filtr górnoprzepustowy Butterwartha o częstościach odcięcia: 0.01, 0.1, 0.5 -> zaobserwuj jak długo stabilizuje się sygnał\n",
    "* Zastosuj filtr pasmowoprzepustowy (11 - 14 Hz) i wykreśl wynik jego zastosowania na tle poprzedniej wersji sygnału. Zinterpretuj wynik w kontekście funkcji odpowiedzi impulsowej tego filtra."
   ]
  },
  {
   "cell_type": "code",
   "execution_count": null,
   "metadata": {
    "collapsed": true
   },
   "outputs": [],
   "source": [
    "s = np.fromfile('EKG.bin', dtype='<f') # tworzymy tablicę sig o typie określonym przez ''dtype''                                \n",
    "# ustawiamy częstość próbkowania\n",
    "Fs = 128\n",
    "# tworzymy wektor czasu\n",
    "t = np.arange(0,len(s))/Fs\n",
    "\n",
    "# ustalamy zakres indeksów sygnału i czasu do wyświetlania\n",
    "zakres =  np.logical_and(0<t, t<10)\n",
    "\n",
    "py.plot(t[zakres],s[zakres])\n",
    "# filtr górnoprzepustowy (0.01, 0.1, 0.5)\n",
    "[b,a] = butter(... )\n",
    "sf = filtfilt(...)\n",
    "py.plot(t[zakres],sf[zakres])\n",
    "\n",
    "# filtr pasmowy \n",
    "[bl,al] = butter(... )\n",
    "sf_l = filtfilt(bl,al,sf)\n",
    "py.plot(t[zakres],sf_l[zakres])\n",
    "\n",
    "py.show()"
   ]
  },
  {
   "cell_type": "markdown",
   "metadata": {},
   "source": [
    "### Zadanie: Uwaga na odpowiedź schodkową\n",
    "Wykorzystajmy fragment sygnału EKG z poprzedniego zadania (pomiędzy 12 a 40 -tą sekundą).\n",
    "* wykreśl ten fragment\n",
    "* zaprojektuj filtr górnoprzepustowy Butterwortha o częstości odcięcia 0.1 (potem 0.5), rzedu 1 (potem 5), \n",
    "* przefiltruj sygnał z tymi współczynnikami za pomocą funkcji `filtfilt` i `lfilter` ,\n",
    "* dodaj do sygnału z lewej strony jego kopię odwróconą w czasie,\n",
    "* ten sygnał przefiltruj funkcją `lfilter` i wykreśl jego drugą połowę,\n",
    "* zinterpretuj uzyskane wyniki w kontekście funkcji odpowiedzi impulsowej."
   ]
  },
  {
   "cell_type": "code",
   "execution_count": null,
   "metadata": {
    "collapsed": true,
    "scrolled": false
   },
   "outputs": [],
   "source": [
    "zakres =  np.logical_and(10<t, t<40)\n",
    "t_z = t[zakres]\n",
    "s_z = s[zakres]\n",
    "py.plot(t_z,s_z, label = 'oryginalny')\n",
    "py.grid('on')\n",
    "\n",
    "# filtr górnoprzepustowy ( 0.1, 0.5)\n",
    "[b,a] = butter(...)\n",
    "sff = filtfilt(...)\n",
    "py.plot(t_z, sff, label = 'filtfilt')\n",
    "\n",
    "# lfilter\n",
    "sfl = lfilter(...)\n",
    "py.plot(t_z,...,label = 'lfilter')\n",
    "\n",
    "# lfilter z przedłużeniem \n",
    "x=np.concatenate((s_z[::-1],s_z))\n",
    "sfl_p = lfilter(...)\n",
    "py.plot(t_z,sfl_p[len(t_z):],label = 'lfilter z przedłużaniem')\n",
    "py.legend()\n",
    "py.show()"
   ]
  },
  {
   "cell_type": "markdown",
   "metadata": {},
   "source": [
    "## Przepróbkowywanie\n",
    "\n",
    "### Przepróbkowywanie do góry: \n",
    "Zwiększamy częstość prókowania całkowitą ilość razy P\n",
    "\n",
    "Najpowszechniej stosowana metoda polega na dodaniu P zer pomiędzy istniejące próbki sygnału tak aby osiągnął on P-krotnie większą długość. Następnie taki rozciągnięty sygnał filtrujemy filtrem dolnoprzepustowym o częstości odcięcia nie większej niż częstość Nyquista oryginalnego sygnału — rozciąganie sygnału nie dokłada do niego nowej informacji więc i tak nic nie tracimy.\n",
    "Przykład przepróbkowania do góry:\n",
    "\n"
   ]
  },
  {
   "cell_type": "code",
   "execution_count": null,
   "metadata": {
    "collapsed": true
   },
   "outputs": [],
   "source": [
    "t = np.arange(0,0.05,0.001) # czas\n",
    "x = np.sin(2*np.pi*30*t) + np.sin(2*np.pi*60*t) # sygnał\n",
    " \n",
    "py.subplot(3,1,1)\n",
    "py.plot(x,'.')\n",
    "py.title('Sygnał oryginalny')\n",
    "\n",
    "py.subplot(3,1,2)\n",
    "X = np.zeros(4*len(x))\n",
    "X[::4] = x\n",
    "py.plot(X,'.')\n",
    "py.title('Sygnał poprzetykany zerami')\n",
    "\n",
    "[b,a] = butter(8,...) # filtr powinien przepuszczać tylko te częstości, \n",
    "                        # które były w oryginalnym sygnale tzn. poniżej pierwotnego Nyqista\n",
    "y = filtfilt(b,a,X); # filtrujemy dolnoprzepustowo  \n",
    "py.subplot(3,1,3)\n",
    "py.plot(y,'.')\n",
    "py.show()"
   ]
  },
  {
   "cell_type": "markdown",
   "metadata": {},
   "source": [
    "### Przepróbkowanie do dołu: \n",
    "Zmniejszamy częstość próbkowania całkowitą ilość razy.\n",
    "Musimy pamiętać o tym, żeby wyfiltrować to, co było w oryginalnym sygnale powyżej docelowego Nyquista, żeby uniknąć aliasingu w wynikowym sygnale."
   ]
  },
  {
   "cell_type": "code",
   "execution_count": null,
   "metadata": {
    "collapsed": true
   },
   "outputs": [],
   "source": [
    "Fs1 = 128.0 # pierwotna częstość próbkowania [Hz]\n",
    "FN1 = Fs1/2 # pierwotna częstość Nyquista\n",
    " \n",
    "t = arange(0,1,1.0/Fs1) # czas probkowany 1/Fs1\n",
    "f1 = 6 # Hz\n",
    "f2 = 60\n",
    "fi = pi/2\n",
    "s = sin(2*pi*t*f1+fi) + sin(2*pi*t*f2+fi)\n",
    "subplot(4,1,1)\n",
    "plot(t,s,'.-')\n",
    "title(u'sygnał pierwotny')\n",
    "# obnizamy czestosc probkowania k razy\n",
    "k = 2\n",
    "Fs2 = Fs1/k # nowa czestosc probkowania jest k razy niższa\n",
    "FN2 = Fs2/2 # nowa częstość Nyquista\n",
    "[b,a] = butter(8,FN2/FN1) # przefiltrujemy filtrem dolnoprzepustowym\n",
    "                          # tak aby nic nie zostało powyzej\n",
    "                          # docelowej częstości Nyquista \n",
    "ss = filtfilt(b,a,s);\n",
    "t2 = arange(0,1,1.0/Fs2) \n",
    "subplot(4,1,2)\n",
    "plot(t,ss,'.-')\n",
    "title(u'sygnał przefiltrowany dolnoprzepustowy')\n",
    " \n",
    "subplot(4,1,3)\n",
    "ss2 = ss[::k]\n",
    "plot(t2,ss2,'.-')\n",
    "title(u'sygnał przepróbkowany prawidłowo')\n",
    " \n",
    "subplot(4,1,4)\n",
    "ss3 = s[::k]\n",
    "plot(t2,ss3,'.-')\n",
    "title(u'sygnał przepróbkowany nieprawidłowo, bez filtrowania dolnoprzepustowego')\n",
    "show()"
   ]
  },
  {
   "cell_type": "markdown",
   "metadata": {},
   "source": [
    "### Zmiana częstości o wymierną ilość razy:\n",
    "\n",
    "Zmieniamy częstość próbkowania o wymierną $\\frac{P}{Q}$ liczbę razy — uzyskujemy składając powyższe kroki tzn. najpierw zwiększamy częstość P-krotnie, a następnie zmniejszamy Q-krotnie.\n",
    "\n",
    "### Zadanie 6\n",
    "Proszę napisać funkcję, która będzie przepróbkowywać sygnał o wymierną liczbę razy. Funkcja powinna przyjmować sygnał, częstość próbkowania, parametry P i Q i zwracać przepróbkowany sygnał i nową częstość próbkowania"
   ]
  },
  {
   "cell_type": "code",
   "execution_count": null,
   "metadata": {
    "collapsed": true
   },
   "outputs": [],
   "source": [
    "def resample(s,fs,P=1,Q=1):\n",
    "    if P>1 and isinstance(P,int):\n",
    "        sP = np.zeros(P*len(s))\n",
    "        sP[...] = s\n",
    "        fs = ...\n",
    "        [b,a] = butter(...)\n",
    "        s = filtfilt(...)\n",
    "    if Q>1 and isinstance(Q,int):\n",
    "        fs = fs/Q \n",
    "        [b,a] = butter(...) \n",
    "        s = filtfilt(...)\n",
    "        s = s[...]\n",
    "    return s,fs\n",
    "\n",
    "fs = 1000\n",
    "t = np.arange(0,0.05,0.001) # czas\n",
    "s1 = np.sin(2*np.pi*30*t) + np.sin(2*np.pi*60*t) # sygnał\n",
    " \n",
    "py.subplot(3,1,1)\n",
    "py.plot(s1,'.')\n",
    "y,fs2 = resample(s1,fs,P=10,Q=1)\n",
    "py.subplot(3,1,2)\n",
    "py.plot(y,'.')\n",
    "py.show()\n",
    "\n",
    "fs = 128.0\n",
    "t = np.arange(0,1,1.0/fs)\n",
    "f1 = 6 # Hz\n",
    "f2 = 40\n",
    "fi = np.pi/2\n",
    "s2 = np.sin(2*np.pi*t*f1+fi) + np.sin(2*np.pi*t*f2+fi)\n",
    "py.subplot(3,1,1)\n",
    "py.plot(s2,'.-')\n",
    "y,fs2 = resample(s2,fs,P=1,Q=2)\n",
    "py.subplot(3,1,2)\n",
    "py.plot(y,'.-')\n",
    "py.show()"
   ]
  }
 ],
 "metadata": {
  "anaconda-cloud": {},
  "kernelspec": {
   "display_name": "Python 3",
   "language": "python",
   "name": "python3"
  },
  "language_info": {
   "codemirror_mode": {
    "name": "ipython",
    "version": 3
   },
   "file_extension": ".py",
   "mimetype": "text/x-python",
   "name": "python",
   "nbconvert_exporter": "python",
   "pygments_lexer": "ipython3",
   "version": "3.6.2"
  }
 },
 "nbformat": 4,
 "nbformat_minor": 1
}
